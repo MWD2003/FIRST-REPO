{
  "nbformat": 4,
  "nbformat_minor": 0,
  "metadata": {
    "colab": {
      "provenance": [],
      "authorship_tag": "ABX9TyOms+wCKtMyRgbJPrZkMYJm",
      "include_colab_link": true
    },
    "kernelspec": {
      "name": "python3",
      "display_name": "Python 3"
    },
    "language_info": {
      "name": "python"
    }
  },
  "cells": [
    {
      "cell_type": "markdown",
      "metadata": {
        "id": "view-in-github",
        "colab_type": "text"
      },
      "source": [
        "<a href=\"https://colab.research.google.com/github/MWD2003/FIRST-REPO/blob/main/Untitled0.ipynb\" target=\"_parent\"><img src=\"https://colab.research.google.com/assets/colab-badge.svg\" alt=\"Open In Colab\"/></a>"
      ]
    },
    {
      "cell_type": "code",
      "execution_count": 8,
      "metadata": {
        "id": "2lTCn6nhDiHK"
      },
      "outputs": [],
      "source": [
        "#importer du module numpy\n",
        "import numpy as np\n"
      ]
    },
    {
      "cell_type": "code",
      "source": [
        "#création d`une liste\n",
        "liste=[1,2,3,4]"
      ],
      "metadata": {
        "id": "aZasUkH8Fbh1"
      },
      "execution_count": 6,
      "outputs": []
    },
    {
      "cell_type": "code",
      "source": [
        "tableau=np.array(liste)"
      ],
      "metadata": {
        "id": "94C-TgTjJu7C"
      },
      "execution_count": 9,
      "outputs": []
    },
    {
      "cell_type": "code",
      "source": [
        "print(liste)"
      ],
      "metadata": {
        "colab": {
          "base_uri": "https://localhost:8080/"
        },
        "id": "x88XOm_RLPdg",
        "outputId": "c02abac4-574c-4358-9ba1-9696e9e2ce23"
      },
      "execution_count": 15,
      "outputs": [
        {
          "output_type": "stream",
          "name": "stdout",
          "text": [
            "[1, 2, 3, 4]\n"
          ]
        }
      ]
    },
    {
      "cell_type": "code",
      "source": [
        "#céation d`un array à partir de la list créé\n",
        "array_1d=np.array(liste)"
      ],
      "metadata": {
        "id": "VPo4zdpDMbO_"
      },
      "execution_count": 16,
      "outputs": []
    },
    {
      "cell_type": "code",
      "source": [
        "#afficher le array\n",
        "print(array_1d)"
      ],
      "metadata": {
        "colab": {
          "base_uri": "https://localhost:8080/"
        },
        "id": "oXrUe_DNNKtH",
        "outputId": "d2080483-cd6c-41db-dfd3-f703ca8f7844"
      },
      "execution_count": 17,
      "outputs": [
        {
          "output_type": "stream",
          "name": "stdout",
          "text": [
            "[1 2 3 4]\n"
          ]
        }
      ]
    },
    {
      "cell_type": "code",
      "source": [
        "#vérifier le type\n",
        "type(array_1d)"
      ],
      "metadata": {
        "colab": {
          "base_uri": "https://localhost:8080/"
        },
        "id": "8XigAYGZNdY3",
        "outputId": "8d94dafd-c423-46be-88aa-ff7362561256"
      },
      "execution_count": 21,
      "outputs": [
        {
          "output_type": "execute_result",
          "data": {
            "text/plain": [
              "numpy.ndarray"
            ]
          },
          "metadata": {},
          "execution_count": 21
        }
      ]
    },
    {
      "cell_type": "code",
      "source": [
        "#afficher le array_1d\n",
        "print(array_1d)"
      ],
      "metadata": {
        "colab": {
          "base_uri": "https://localhost:8080/"
        },
        "id": "pzo0CEKYOPQ7",
        "outputId": "e94a64ef-b3bd-41e8-f2bb-abc7df054284"
      },
      "execution_count": 22,
      "outputs": [
        {
          "output_type": "stream",
          "name": "stdout",
          "text": [
            "[1 2 3 4]\n"
          ]
        }
      ]
    },
    {
      "cell_type": "code",
      "source": [
        "#création d`un array 1d avec la fonction arrange\n",
        "array_1d=np.arange(1,9)"
      ],
      "metadata": {
        "id": "OBucGq3POvtv"
      },
      "execution_count": 34,
      "outputs": []
    },
    {
      "cell_type": "code",
      "source": [
        "#afficger le array\n",
        "print(array_1d)"
      ],
      "metadata": {
        "colab": {
          "base_uri": "https://localhost:8080/"
        },
        "id": "ic0g5YU9Lx5r",
        "outputId": "78459ea0-a429-4e96-a771-749d5aa1c297"
      },
      "execution_count": 35,
      "outputs": [
        {
          "output_type": "stream",
          "name": "stdout",
          "text": [
            "[1 2 3 4 5 6 7 8]\n"
          ]
        }
      ]
    },
    {
      "cell_type": "code",
      "source": [
        "#création de la liste 2D\n",
        "liste_2D=[[1,2,3,4,5],[7,4,8,3,6,]]"
      ],
      "metadata": {
        "id": "73qx1hQoTPr7"
      },
      "execution_count": 37,
      "outputs": []
    },
    {
      "cell_type": "code",
      "source": [
        "#creation d`un array 2D à partir de la liste 2D\n",
        "array_2D=np.array(liste_2D)"
      ],
      "metadata": {
        "id": "kn3qS-uMUsir"
      },
      "execution_count": 41,
      "outputs": []
    },
    {
      "cell_type": "code",
      "source": [
        "#afficger le array\n",
        "print(array_2D)"
      ],
      "metadata": {
        "colab": {
          "base_uri": "https://localhost:8080/"
        },
        "id": "_SrSdd13VrRe",
        "outputId": "31119c1f-e56b-496d-fc78-26369cec17ba"
      },
      "execution_count": 42,
      "outputs": [
        {
          "output_type": "stream",
          "name": "stdout",
          "text": [
            "[[1 2 3 4 5]\n",
            " [7 4 8 3 6]]\n"
          ]
        }
      ]
    },
    {
      "cell_type": "code",
      "source": [
        "#creation d`une liste 3D\n",
        "liste_3D=[[[1,2,3]],[[4,5,6]],[[7,8,9]]]"
      ],
      "metadata": {
        "id": "JclDAPPiaCxZ"
      },
      "execution_count": 45,
      "outputs": []
    },
    {
      "cell_type": "code",
      "source": [
        "#afficher le type\n",
        "type(liste_3D)"
      ],
      "metadata": {
        "colab": {
          "base_uri": "https://localhost:8080/"
        },
        "id": "8c_OEHRZanhZ",
        "outputId": "a1d64d0a-4070-4ee8-b233-f5ea1af6106b"
      },
      "execution_count": 47,
      "outputs": [
        {
          "output_type": "execute_result",
          "data": {
            "text/plain": [
              "list"
            ]
          },
          "metadata": {},
          "execution_count": 47
        }
      ]
    },
    {
      "cell_type": "code",
      "source": [
        "#afficher la liste 3D\n",
        "print(liste_3D)"
      ],
      "metadata": {
        "colab": {
          "base_uri": "https://localhost:8080/"
        },
        "id": "Qllpkj6ta_uP",
        "outputId": "ea3cc51a-10fa-4aad-9c36-6e865ab652ce"
      },
      "execution_count": 48,
      "outputs": [
        {
          "output_type": "stream",
          "name": "stdout",
          "text": [
            "[[[1, 2, 3]], [[4, 5, 6]], [[7, 8, 9]]]\n"
          ]
        }
      ]
    },
    {
      "cell_type": "code",
      "source": [
        "#création d`array 3D avec la liste 3D\n",
        "array_3D=np.array(liste_3D)"
      ],
      "metadata": {
        "id": "C5TvRPi9a_xS"
      },
      "execution_count": 49,
      "outputs": []
    },
    {
      "cell_type": "code",
      "source": [
        "#aficher le type\n",
        "type(array_3D)"
      ],
      "metadata": {
        "colab": {
          "base_uri": "https://localhost:8080/"
        },
        "id": "WofkW7mNchPO",
        "outputId": "40352e93-a51d-462e-f2fd-3b46ea2c0001"
      },
      "execution_count": 50,
      "outputs": [
        {
          "output_type": "execute_result",
          "data": {
            "text/plain": [
              "numpy.ndarray"
            ]
          },
          "metadata": {},
          "execution_count": 50
        }
      ]
    },
    {
      "cell_type": "code",
      "source": [
        "#afficher le array 3D\n",
        "print(array_3D)"
      ],
      "metadata": {
        "colab": {
          "base_uri": "https://localhost:8080/"
        },
        "id": "2Pn_raxwc0xz",
        "outputId": "c257e8ea-3bb9-46ab-ec85-d5d647f4578a"
      },
      "execution_count": 51,
      "outputs": [
        {
          "output_type": "stream",
          "name": "stdout",
          "text": [
            "[[[1 2 3]]\n",
            "\n",
            " [[4 5 6]]\n",
            "\n",
            " [[7 8 9]]]\n"
          ]
        }
      ]
    }
  ]
}